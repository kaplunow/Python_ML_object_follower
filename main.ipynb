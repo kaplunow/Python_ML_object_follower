{
 "cells": [
  {
   "cell_type": "code",
   "execution_count": null,
   "id": "subsequent-neutral",
   "metadata": {},
   "outputs": [
    {
     "data": {
      "application/vnd.jupyter.widget-view+json": {
       "model_id": "1c7d7e62f63d4117abeb29fa5badec3c",
       "version_major": 2,
       "version_minor": 0
      },
      "text/plain": [
       "VBox(children=(HBox(children=(Image(value=b'', format='jpeg', height='224', width='224'), Text(value='Hello Wo…"
      ]
     },
     "metadata": {},
     "output_type": "display_data"
    }
   ],
   "source": [
    "import vision_module\n",
    "import ipywidgets.widgets as widgets\n",
    "from jetbot import bgr8_to_jpeg\n",
    "from jetbot import Robot\n",
    "\n",
    "robot = Robot()\n",
    "\n",
    "def robot_update(draw_list):\n",
    "    global robot\n",
    "    if len(draw_list) == 1:\n",
    "        if draw_list[0] == 0 or draw_list[0] == 1  :\n",
    "            robot.left(0.2)\n",
    "        elif draw_list[0] ==2:\n",
    "            robot.forward(0.3)\n",
    "        elif draw_list[0] == 3 or draw_list[0] == 4:\n",
    "            robot.right(0.2)    \n",
    "    else:\n",
    "        robot.stop()\n",
    "\n",
    "\n",
    "mod = vision_module.vision_mod(\"network_ball_model.pth\",2,0)\n",
    "\n",
    "image = widgets.Image(format='jpeg', width=224, height=224)\n",
    "text = widgets.Text(value='Hello World',placeholder='Type something',description='Pos:',disabled=False)\n",
    "display(widgets.VBox([widgets.HBox([image, text])]))\n",
    "\n",
    "while 1:\n",
    "    out, frame = mod.get_pos_with_feed()  \n",
    "    image.value = bgr8_to_jpeg(frame)\n",
    "    if len(out) > 0:\n",
    "        text.value = str(out[0])\n",
    "    robot_update(out)\n",
    "    \n"
   ]
  },
  {
   "cell_type": "code",
   "execution_count": 6,
   "id": "senior-soviet",
   "metadata": {},
   "outputs": [],
   "source": [
    "mod.deinit()"
   ]
  },
  {
   "cell_type": "code",
   "execution_count": null,
   "id": "dense-consolidation",
   "metadata": {},
   "outputs": [],
   "source": []
  }
 ],
 "metadata": {
  "kernelspec": {
   "display_name": "Python 3",
   "language": "python",
   "name": "python3"
  },
  "language_info": {
   "codemirror_mode": {
    "name": "ipython",
    "version": 3
   },
   "file_extension": ".py",
   "mimetype": "text/x-python",
   "name": "python",
   "nbconvert_exporter": "python",
   "pygments_lexer": "ipython3",
   "version": "3.6.9"
  }
 },
 "nbformat": 4,
 "nbformat_minor": 5
}
